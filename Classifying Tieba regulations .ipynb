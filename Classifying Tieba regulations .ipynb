{
 "cells": [
  {
   "cell_type": "code",
   "execution_count": 2,
   "id": "39f7473f",
   "metadata": {},
   "outputs": [
    {
     "name": "stderr",
     "output_type": "stream",
     "text": [
      "c:\\users\\xiaok\\appdata\\local\\programs\\python\\python37\\lib\\site-packages\\tqdm\\auto.py:22: TqdmWarning: IProgress not found. Please update jupyter and ipywidgets. See https://ipywidgets.readthedocs.io/en/stable/user_install.html\n",
      "  from .autonotebook import tqdm as notebook_tqdm\n"
     ]
    }
   ],
   "source": [
    "import pathlib\n",
    "import spacy\n",
    "import numpy as np\n",
    "import re\n",
    "import os\n",
    "from spacy.lang.zh.stop_words import STOP_WORDS\n",
    "import jieba\n",
    "import zh_core_web_lg\n",
    "import sklearn\n",
    "from sklearn import neighbors\n",
    "from scipy import spatial\n",
    "from sklearn.metrics import classification_report\n",
    "import string\n"
   ]
  },
  {
   "cell_type": "code",
   "execution_count": 3,
   "id": "b5a6afce",
   "metadata": {},
   "outputs": [],
   "source": [
    "import pathlib \n",
    "\n",
    "docs = []\n",
    "labels = []\n"
   ]
  },
  {
   "cell_type": "code",
   "execution_count": null,
   "id": "e1798674",
   "metadata": {
    "scrolled": true
   },
   "outputs": [],
   "source": [
    "#preset labels \n",
    "label_names = ['广告', '色情', '辱骂', '争吵', '水贴', '交易', '挖坟', '政治', '隐私', '虚假', '歧视', '求助', '引战', '授权']\n",
    "\n",
    "file = pathlib.Path(r\"C:\\Users\\xiaok\\Desktop\\598sc\\mingxing.txt\").read_text(encoding='utf-8')\n",
    "docs = file.split('。')"
   ]
  },
  {
   "cell_type": "code",
   "execution_count": 62,
   "id": "1dacd4f4",
   "metadata": {},
   "outputs": [],
   "source": [
    "#Clean text and remove some common words appeal in Chinese \n",
    "punctuation_string = string.punctuation\n",
    "punc = '＂＃＄％＆＇（）＊＋，－／：；＜＝＞＠［＼］＾＿｀｛｜｝～｟｠｢｣､\\u3000、〃〈〉《》「」『』【】〔〕〖〗〘〙〚〛〜〝〞〟〾〿–—‘’‛“”„‟…‧﹏﹑﹔·！？｡。'\n",
    "def clean_text(text):\n",
    "    text= text.strip()\n",
    "    text = \" \".join(re.findall(r'\\b\\w+\\b', text))\n",
    "    text = re.sub('[{}]'.format(punctuation_string),\"\",text)\n",
    "    text = re.sub('[\\da-zA-Z、一二三四五六七八九十条款]','',text) # [0-9]\n",
    "    return text"
   ]
  },
  {
   "cell_type": "code",
   "execution_count": 63,
   "id": "865720bb",
   "metadata": {},
   "outputs": [],
   "source": [
    "doc = clean_text(doc)"
   ]
  },
  {
   "cell_type": "code",
   "execution_count": 64,
   "id": "853f62ba",
   "metadata": {},
   "outputs": [],
   "source": [
    "#word embedding\n",
    "def embed(tokens, nlp):\n",
    "    \"\"\"Return the centroid of the embeddings for the given tokens.\n",
    "\n",
    "    Out-of-vocabulary tokens are cast aside. Stop words are also\n",
    "    discarded. An array of 0s is returned if none of the tokens\n",
    "    are valid.\n",
    "\n",
    "    \"\"\"\n",
    "    lexemes = (nlp.vocab[token] for token in tokens)\n",
    "\n",
    "    vectors = np.asarray([\n",
    "        lexeme.vector\n",
    "        for lexeme in lexemes\n",
    "        if lexeme.has_vector\n",
    "        and not lexeme.is_stop\n",
    "        and len(lexeme.text) > 1\n",
    "    ])\n",
    "    if len(vectors) > 0:\n",
    "        centroid = vectors.mean(axis=0)\n",
    "        \n",
    "    else:\n",
    "        width = nlp.meta['vectors']['width']  # typically 300\n",
    "        centroid = np.zeros(width)\n",
    "\n",
    "    return centroid"
   ]
  },
  {
   "cell_type": "code",
   "execution_count": 93,
   "id": "deb920c3",
   "metadata": {},
   "outputs": [
    {
     "name": "stderr",
     "output_type": "stream",
     "text": [
      "c:\\users\\xiaok\\appdata\\local\\programs\\python\\python37\\lib\\site-packages\\scipy\\spatial\\distance.py:698: RuntimeWarning: invalid value encountered in double_scalars\n",
      "  dist = 1.0 - uv / np.sqrt(uu * vv)\n",
      "c:\\users\\xiaok\\appdata\\local\\programs\\python\\python37\\lib\\site-packages\\scipy\\spatial\\distance.py:698: RuntimeWarning: invalid value encountered in double_scalars\n",
      "  dist = 1.0 - uv / np.sqrt(uu * vv)\n",
      "c:\\users\\xiaok\\appdata\\local\\programs\\python\\python37\\lib\\site-packages\\scipy\\spatial\\distance.py:698: RuntimeWarning: invalid value encountered in double_scalars\n",
      "  dist = 1.0 - uv / np.sqrt(uu * vv)\n",
      "c:\\users\\xiaok\\appdata\\local\\programs\\python\\python37\\lib\\site-packages\\scipy\\spatial\\distance.py:698: RuntimeWarning: invalid value encountered in double_scalars\n",
      "  dist = 1.0 - uv / np.sqrt(uu * vv)\n",
      "c:\\users\\xiaok\\appdata\\local\\programs\\python\\python37\\lib\\site-packages\\scipy\\spatial\\distance.py:698: RuntimeWarning: invalid value encountered in double_scalars\n",
      "  dist = 1.0 - uv / np.sqrt(uu * vv)\n",
      "c:\\users\\xiaok\\appdata\\local\\programs\\python\\python37\\lib\\site-packages\\scipy\\spatial\\distance.py:698: RuntimeWarning: invalid value encountered in double_scalars\n",
      "  dist = 1.0 - uv / np.sqrt(uu * vv)\n",
      "c:\\users\\xiaok\\appdata\\local\\programs\\python\\python37\\lib\\site-packages\\scipy\\spatial\\distance.py:698: RuntimeWarning: invalid value encountered in double_scalars\n",
      "  dist = 1.0 - uv / np.sqrt(uu * vv)\n"
     ]
    }
   ],
   "source": [
    "#find closet label to the current doc \n",
    "nlp = spacy.load(\"zh_core_web_lg\")\n",
    "\n",
    "neigh = neighbors.NearestNeighbors(n_neighbors=1, metric=spatial.distance.cosine)\n",
    "neigh.fit(label_vectors)\n",
    "\n",
    "label_vectors = np.asarray([\n",
    "    embed(label.split(' '), nlp)\n",
    "    for label in label_names\n",
    "])\n",
    "\n",
    "def predict(doc, nlp, neigh):\n",
    "    tokens = \"\"\n",
    "    doc = clean_text(doc)\n",
    "    tokens = jieba.lcut(doc)\n",
    "    tokens = ' '.join(tokens)\n",
    "    tokens = tokens.split(\" \")\n",
    "    while(\"\" in tokens):\n",
    "        tokens.remove(\"\")\n",
    "    centroid = embed(tokens, nlp)\n",
    "    closest_label = neigh.kneighbors([centroid], return_distance=False)[0][0]\n",
    "    return closest_label\n",
    "\n",
    "preds = [label_names[predict(doc, nlp, neigh)] for doc in docs]\n",
    "y_true = label_names\n",
    "report = classification_report(y_true = preds, y_pred=preds,labels=label_names)\n",
    "    "
   ]
  },
  {
   "cell_type": "code",
   "execution_count": 95,
   "id": "7de37a50",
   "metadata": {
    "scrolled": true
   },
   "outputs": [
    {
     "name": "stdout",
     "output_type": "stream",
     "text": [
      "Label   \tSupports\tpercentage\n",
      "Ad    \t 60 \t\t 18.9%\n",
      "Porngraphy    \t 14 \t\t 4.4%\n",
      "Abuse    \t 29 \t\t 9.1%\n",
      "Toxicity    \t 19 \t\t 6.0%\n",
      "Meaningless    \t 10 \t\t 3.2%\n",
      "Trade    \t 10 \t\t 3.2%\n",
      "necro-bump    \t 14 \t\t 4.4%\n",
      "Politics    \t 15 \t\t 4.7%\n",
      "Privacy    \t 45 \t\t 14.2%\n",
      "Falsehood    \t 28 \t\t 8.8%\n",
      "Discrimination    \t 18 \t\t 5.7%\n",
      "Help Request    \t 16 \t\t 5.0%\n",
      "Trolling    \t 3 \t\t 0.9%\n",
      "Authorization    \t 36 \t\t 11.4%\n"
     ]
    }
   ],
   "source": [
    "print(\"Label   \\tSupports\\tpercentage\")\n",
    "translate = ['Ad', 'Porngraphy', 'Abuse', 'Toxicity', 'Meaningless', 'Trade', 'necro-bump', 'Politics', 'Privacy', 'Falsehood', 'Discrimination', 'Help Request', 'Trolling', 'Authorization']\n",
    "j = 0\n",
    "for i in label_names:\n",
    "    print(translate[j],\"   \\t\" ,preds.count(i),\"\\t\\t\",\"{:.01%}\".format(preds.count(i)/len(preds)))\n",
    "    j = j + 1"
   ]
  }
 ],
 "metadata": {
  "kernelspec": {
   "display_name": "Python 3 (ipykernel)",
   "language": "python",
   "name": "python3"
  },
  "language_info": {
   "codemirror_mode": {
    "name": "ipython",
    "version": 3
   },
   "file_extension": ".py",
   "mimetype": "text/x-python",
   "name": "python",
   "nbconvert_exporter": "python",
   "pygments_lexer": "ipython3",
   "version": "3.7.6"
  }
 },
 "nbformat": 4,
 "nbformat_minor": 5
}
